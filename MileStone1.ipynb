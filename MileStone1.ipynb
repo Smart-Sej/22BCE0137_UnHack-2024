{
 "cells": [
  {
   "cell_type": "code",
   "execution_count": null,
   "metadata": {},
   "outputs": [],
   "source": [
    "import pandas as pd\n",
    "import numpy as np"
   ]
  },
  {
   "cell_type": "code",
   "execution_count": null,
   "metadata": {},
   "outputs": [],
   "source": [
    "care_area_df = pd.read_csv('CareAreas.csv', header=None, names=['ID', 'x1', 'x2', 'y1', 'y2'])\n",
    "metadata_df = pd.read_csv('metadata.csv')"
   ]
  },
  {
   "cell_type": "code",
   "execution_count": null,
   "metadata": {},
   "outputs": [],
   "source": [
    "def generate_main_fields(care_area_df, main_field_size):\n",
    "    main_fields = []\n",
    "    main_field_id = 0\n",
    "\n",
    "    for _, row in care_area_df.iterrows():\n",
    "        x_start = row['x1']\n",
    "        y_start = row['y1']\n",
    "        x_end = row['x2']\n",
    "        y_end = row['y2']\n",
    "\n",
    "        for x in np.arange(x_start, x_end, main_field_size):\n",
    "            for y in np.arange(y_start, y_end, main_field_size):\n",
    "                x2 = min(x + main_field_size, x_end)\n",
    "                y2 = min(y + main_field_size, y_end)\n",
    "                main_fields.append([main_field_id, x, x2, y, y2])\n",
    "                main_field_id += 1\n",
    "\n",
    "    return main_fields\n",
    "\n",
    "# Function to generate sub-fields\n",
    "def generate_sub_fields(main_fields, sub_field_sizes):\n",
    "    sub_fields = []\n",
    "    sub_field_id = 0\n",
    "\n",
    "    for main_field in main_fields:\n",
    "        mf_id, x1, x2, y1, y2 = main_field\n",
    "        sub_field_size = min(sub_field_sizes)\n",
    "\n",
    "        for x in np.arange(x1, x2, sub_field_size):\n",
    "            for y in np.arange(y1, y2, sub_field_size):\n",
    "                if x < x2 and y < y2:\n",
    "                    x2_sub = min(x + sub_field_size, x2)\n",
    "                    y2_sub = min(y + sub_field_size, y2)\n",
    "                    sub_fields.append([sub_field_id, x, x2_sub, y, y2_sub, mf_id])\n",
    "                    sub_field_id += 1\n",
    "\n",
    "    return sub_fields\n",
    "\n",
    "# Generate main fields\n",
    "main_fields = generate_main_fields(care_area_df, metadata_df['Main Field Size'].values[0])\n",
    "main_fields\n",
    "\n"
   ]
  },
  {
   "cell_type": "code",
   "execution_count": null,
   "metadata": {},
   "outputs": [],
   "source": [
    "# Generate sub-fields\n",
    "sub_fields = generate_sub_fields(main_fields, metadata_df['Sub Field size'].values)\n",
    "\n",
    "sub_fields"
   ]
  },
  {
   "cell_type": "code",
   "execution_count": null,
   "metadata": {},
   "outputs": [],
   "source": [
    "main_fields_output = pd.DataFrame(main_fields,)\n",
    "sub_fields_output = pd.DataFrame(sub_fields)\n",
    "\n",
    "# Save results to CSV\n",
    "main_fields_output.to_csv('MainFields_1.csv',header=False , index=False)\n",
    "sub_fields_output.to_csv('SubFields_1.csv',header=False, index=False)\n"
   ]
  }
 ],
 "metadata": {
  "kernelspec": {
   "display_name": "Python 3",
   "language": "python",
   "name": "python3"
  },
  "language_info": {
   "codemirror_mode": {
    "name": "ipython",
    "version": 3
   },
   "file_extension": ".py",
   "mimetype": "text/x-python",
   "name": "python",
   "nbconvert_exporter": "python",
   "pygments_lexer": "ipython3",
   "version": "3.10.7"
  }
 },
 "nbformat": 4,
 "nbformat_minor": 2
}
